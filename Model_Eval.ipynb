{
 "cells": [
  {
   "cell_type": "code",
   "execution_count": null,
   "metadata": {
    "execution": {
     "iopub.execute_input": "2022-04-30T16:48:34.987426Z",
     "iopub.status.busy": "2022-04-30T16:48:34.986729Z",
     "iopub.status.idle": "2022-04-30T16:48:34.993961Z",
     "shell.execute_reply": "2022-04-30T16:48:34.992619Z",
     "shell.execute_reply.started": "2022-04-30T16:48:34.987389Z"
    }
   },
   "outputs": [],
   "source": [
    "import tensorflow as tf\n",
    "from tensorflow.keras.preprocessing import image_dataset_from_directory as img_from_dir\n",
    "from tensorflow.keras.models import load_model\n",
    "import cv2\n",
    "import numpy as np\n",
    "import matplotlib.pyplot as plt"
   ]
  },
  {
   "cell_type": "code",
   "execution_count": null,
   "metadata": {
    "execution": {
     "iopub.execute_input": "2022-04-30T16:48:35.001088Z",
     "iopub.status.busy": "2022-04-30T16:48:35.000443Z",
     "iopub.status.idle": "2022-04-30T16:48:35.010645Z",
     "shell.execute_reply": "2022-04-30T16:48:35.009467Z",
     "shell.execute_reply.started": "2022-04-30T16:48:35.000996Z"
    }
   },
   "outputs": [],
   "source": [
    "def PSNR(y_true,y_pred):\n",
    "  mse=tf.reduce_mean( (y_true - y_pred) ** 2 ).numpy()\n",
    "  return 20 * log10(1 / (mse ** 0.5))\n",
    "\n",
    "def log10(x):\n",
    "  numerator = tf.math.log(x)\n",
    "  denominator = tf.math.log(tf.constant(10, dtype=numerator.dtype)).numpy()\n",
    "  return numerator / denominator\n",
    "\n",
    "def pixel_MSE(y_true,y_pred):\n",
    "  return tf.reduce_mean( (y_true - y_pred) ** 2 ).numpy()\n"
   ]
  },
  {
   "cell_type": "code",
   "execution_count": null,
   "metadata": {
    "execution": {
     "iopub.execute_input": "2022-04-30T16:48:35.018442Z",
     "iopub.status.busy": "2022-04-30T16:48:35.018086Z",
     "iopub.status.idle": "2022-04-30T16:48:38.10648Z",
     "shell.execute_reply": "2022-04-30T16:48:38.10546Z",
     "shell.execute_reply.started": "2022-04-30T16:48:35.018412Z"
    }
   },
   "outputs": [],
   "source": [
    "path=\"/path/\"\n",
    "imgs_path=\"/sample/\"\n",
    "test_data=img_from_dir(imgs_path,label_mode=None,image_size=(128,128), \n",
    "                                 validation_split=0.1,seed=70)\n"
   ]
  },
  {
   "cell_type": "code",
   "execution_count": null,
   "metadata": {
    "_cell_guid": "b1076dfc-b9ad-4769-8c92-a6c4dae69d19",
    "_uuid": "8f2839f25d086af736a60e9eeb907d3b93b6e0e5",
    "execution": {
     "iopub.execute_input": "2022-04-30T16:48:38.109277Z",
     "iopub.status.busy": "2022-04-30T16:48:38.10848Z",
     "iopub.status.idle": "2022-04-30T16:51:04.311107Z",
     "shell.execute_reply": "2022-04-30T16:51:04.309975Z",
     "shell.execute_reply.started": "2022-04-30T16:48:38.109213Z"
    },
    "jupyter": {
     "source_hidden": true
    },
    "scrolled": true
   },
   "outputs": [],
   "source": [
    "@tf.function\n",
    "def build_data(data):\n",
    "  cropped=tf.dtypes.cast(tf.image.random_crop(data[0] / 255,(128,128,3)),tf.float32)\n",
    "\n",
    "  lr=tf.image.resize(cropped,(32,32))\n",
    "  #lr=tf.image.resize(lr,(128,128),method=tf.image.ResizeMethod.BICUBIC)\n",
    "  return (lr,cropped)\n",
    "\n",
    "def bicubic_interpolate(image,shape):\n",
    "  img_resized=cv2.resize(image,shape, interpolation=cv2.INTER_CUBIC)\n",
    "  return img_resized\n",
    "\n",
    "val_dataset_mapped = test_data.map(build_data,num_parallel_calls=tf.data.AUTOTUNE)\n",
    "SRResnet_old=load_model(f'models/SRResNet_gen_latest.h5')\n",
    "SRResnet_latest=load_model(f'models/SRResNet_gen_latest.h5') #compare\n",
    "psnr_tot, psnr_tot1, MSE, MSE1=[], [], [], []\n",
    "low_res, original, predictions1, predictions2=[], [], [], []\n",
    "\n",
    "for i in val_dataset_mapped.take(1000):\n",
    "    im=i[1].numpy()\n",
    "    original.append(im)\n",
    "    lr=bicubic_interpolate(im,(im.shape[1]//4,im.shape[0]//4))\n",
    "    pred=SRResnet_old(np.array([lr]))\n",
    "    pred1=SRResnet_latest(np.array([lr]))\n",
    "    low_res.append(lr)\n",
    "    predictions1.append(pred)\n",
    "    predictions2.append(pred1)\n",
    "    psnr=PSNR(im,pred[0].numpy())\n",
    "    psnr1=PSNR(im,pred1[0].numpy())\n",
    "    mse=pixel_MSE(im,pred[0].numpy())\n",
    "    mse1=pixel_MSE(im,pred1[0].numpy())\n",
    "    MSE.append(mse)\n",
    "    MSE1.append(mse1)\n",
    "    psnr_tot.append(psnr)\n",
    "    psnr_tot1.append(psnr1)"
   ]
  },
  {
   "cell_type": "code",
   "execution_count": null,
   "metadata": {
    "execution": {
     "iopub.execute_input": "2022-04-30T16:51:04.313805Z",
     "iopub.status.busy": "2022-04-30T16:51:04.313408Z",
     "iopub.status.idle": "2022-04-30T16:51:04.381004Z",
     "shell.execute_reply": "2022-04-30T16:51:04.379947Z",
     "shell.execute_reply.started": "2022-04-30T16:51:04.313703Z"
    }
   },
   "outputs": [],
   "source": [
    "print(f\"PSNR:\\nOLD:{np.mean(psnr_tot1)};     Latest:{np.mean(psnr_tot)}\")\n",
    "print(f\"MSE:\\nOLD:{np.mean(MSE1)};    Latest:{np.mean(MSE)}\")"
   ]
  },
  {
   "cell_type": "code",
   "execution_count": null,
   "metadata": {
    "execution": {
     "iopub.execute_input": "2022-04-30T16:51:04.383851Z",
     "iopub.status.busy": "2022-04-30T16:51:04.383426Z",
     "iopub.status.idle": "2022-04-30T16:51:10.633041Z",
     "shell.execute_reply": "2022-04-30T16:51:10.632154Z",
     "shell.execute_reply.started": "2022-04-30T16:51:04.383809Z"
    },
    "scrolled": true
   },
   "outputs": [],
   "source": [
    "for i in range(15):\n",
    "    pred\n",
    "    fig=plt.figure(figsize=(20,5))\n",
    "    plt.subplot(1,4,1)\n",
    "    plt.title(\"Low Resolution Image\")\n",
    "    plt.imshow(lr)\n",
    "    plt.axis('off')\n",
    "    plt.subplot(1,4,2)\n",
    "    plt.title(\"Super-Resolution Image(first model)\\nwith 10k imgs & 50 epochs\")\n",
    "    plt.imshow(predictions1[i][0])\n",
    "    plt.axis('off')\n",
    "    plt.subplot(1,4,3)\n",
    "    plt.title(\"Super-Resolution Image(second model)\\n5k imgs & 100 epochs\")\n",
    "    plt.imshow(predictions2[i][0])\n",
    "    plt.axis('off')\n",
    "    plt.subplot(1,4,4)\n",
    "    plt.title(\"Original Image\")\n",
    "    plt.imshow(im)\n",
    "    plt.axis('off')\n",
    "    plt.show()"
   ]
  },
  {
   "cell_type": "code",
   "execution_count": null,
   "metadata": {
    "execution": {
     "iopub.execute_input": "2022-04-30T16:51:10.635498Z",
     "iopub.status.busy": "2022-04-30T16:51:10.634923Z",
     "iopub.status.idle": "2022-04-30T16:51:11.520085Z",
     "shell.execute_reply": "2022-04-30T16:51:11.519201Z",
     "shell.execute_reply.started": "2022-04-30T16:51:10.635456Z"
    }
   },
   "outputs": [],
   "source": [
    "plt.figure(figsize=(20,10))\n",
    "plt.subplot(2,2,1)\n",
    "plt.plot(psnr_tot)\n",
    "plt.subplot(2,2,2)\n",
    "plt.plot(psnr_tot1)\n",
    "plt.subplot(2,2,3)\n",
    "plt.plot(MSE)\n",
    "plt.subplot(2,2,4)\n",
    "plt.plot(MSE1)\n",
    "plt.show()"
   ]
  },
  {
   "cell_type": "code",
   "execution_count": null,
   "metadata": {},
   "outputs": [],
   "source": []
  }
 ],
 "metadata": {
  "kernelspec": {
   "display_name": "Python 3",
   "language": "python",
   "name": "python3"
  },
  "language_info": {
   "codemirror_mode": {
    "name": "ipython",
    "version": 3
   },
   "file_extension": ".py",
   "mimetype": "text/x-python",
   "name": "python",
   "nbconvert_exporter": "python",
   "pygments_lexer": "ipython3",
   "version": "3.8.5"
  }
 },
 "nbformat": 4,
 "nbformat_minor": 4
}
